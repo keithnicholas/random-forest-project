{
  "nbformat": 4,
  "nbformat_minor": 0,
  "metadata": {
    "colab": {
      "name": "updated august data.ipynb",
      "provenance": [],
      "collapsed_sections": [],
      "machine_shape": "hm"
    },
    "kernelspec": {
      "name": "python3",
      "display_name": "Python 3"
    },
    "accelerator": "GPU"
  },
  "cells": [
    {
      "cell_type": "code",
      "metadata": {
        "id": "ye6UzZndTJD4",
        "colab_type": "code",
        "outputId": "6901cb6b-d3a0-40f4-82b5-2cb892b597ad",
        "colab": {
          "base_uri": "https://localhost:8080/",
          "height": 544
        }
      },
      "source": [
        "import pandas as pd  \n",
        "import numpy as np\n",
        "import xlrd\n",
        "from sklearn import preprocessing\n",
        "from sklearn.model_selection import train_test_split\n",
        "from sklearn.preprocessing import StandardScaler\n",
        "from sklearn.ensemble import *\n",
        "from sklearn.metrics import *\n",
        "from imblearn.over_sampling import SMOTE\n",
        "#from google.colab import files\n",
        "#uploaded = files.upload()\n",
        "!pip install -U imbalanced-learn\n",
        "!pip install -q pydot\n",
        "!pip install -q graphviz\n",
        "!apt-get install graphviz\n",
        "!pip install treeinterpreter\n",
        "!pip install keras\n",
        "!pip install seaborn"
      ],
      "execution_count": 110,
      "outputs": [
        {
          "output_type": "stream",
          "text": [
            "Requirement already up-to-date: imbalanced-learn in /usr/local/lib/python3.6/dist-packages (0.6.2)\n",
            "Requirement already satisfied, skipping upgrade: numpy>=1.11 in /usr/local/lib/python3.6/dist-packages (from imbalanced-learn) (1.18.2)\n",
            "Requirement already satisfied, skipping upgrade: scipy>=0.17 in /usr/local/lib/python3.6/dist-packages (from imbalanced-learn) (1.4.1)\n",
            "Requirement already satisfied, skipping upgrade: scikit-learn>=0.22 in /usr/local/lib/python3.6/dist-packages (from imbalanced-learn) (0.22.2.post1)\n",
            "Requirement already satisfied, skipping upgrade: joblib>=0.11 in /usr/local/lib/python3.6/dist-packages (from imbalanced-learn) (0.14.1)\n",
            "Reading package lists... Done\n",
            "Building dependency tree       \n",
            "Reading state information... Done\n",
            "graphviz is already the newest version (2.40.1-2).\n",
            "0 upgraded, 0 newly installed, 0 to remove and 25 not upgraded.\n",
            "Requirement already satisfied: treeinterpreter in /usr/local/lib/python3.6/dist-packages (0.2.2)\n",
            "Requirement already satisfied: keras in /usr/local/lib/python3.6/dist-packages (2.2.5)\n",
            "Requirement already satisfied: keras-preprocessing>=1.1.0 in /usr/local/lib/python3.6/dist-packages (from keras) (1.1.0)\n",
            "Requirement already satisfied: numpy>=1.9.1 in /usr/local/lib/python3.6/dist-packages (from keras) (1.18.2)\n",
            "Requirement already satisfied: h5py in /usr/local/lib/python3.6/dist-packages (from keras) (2.8.0)\n",
            "Requirement already satisfied: six>=1.9.0 in /usr/local/lib/python3.6/dist-packages (from keras) (1.12.0)\n",
            "Requirement already satisfied: scipy>=0.14 in /usr/local/lib/python3.6/dist-packages (from keras) (1.4.1)\n",
            "Requirement already satisfied: pyyaml in /usr/local/lib/python3.6/dist-packages (from keras) (3.13)\n",
            "Requirement already satisfied: keras-applications>=1.0.8 in /usr/local/lib/python3.6/dist-packages (from keras) (1.0.8)\n",
            "Requirement already satisfied: seaborn in /usr/local/lib/python3.6/dist-packages (0.10.0)\n",
            "Requirement already satisfied: scipy>=1.0.1 in /usr/local/lib/python3.6/dist-packages (from seaborn) (1.4.1)\n",
            "Requirement already satisfied: pandas>=0.22.0 in /usr/local/lib/python3.6/dist-packages (from seaborn) (0.25.3)\n",
            "Requirement already satisfied: numpy>=1.13.3 in /usr/local/lib/python3.6/dist-packages (from seaborn) (1.18.2)\n",
            "Requirement already satisfied: matplotlib>=2.1.2 in /usr/local/lib/python3.6/dist-packages (from seaborn) (3.2.0)\n",
            "Requirement already satisfied: python-dateutil>=2.6.1 in /usr/local/lib/python3.6/dist-packages (from pandas>=0.22.0->seaborn) (2.8.1)\n",
            "Requirement already satisfied: pytz>=2017.2 in /usr/local/lib/python3.6/dist-packages (from pandas>=0.22.0->seaborn) (2018.9)\n",
            "Requirement already satisfied: kiwisolver>=1.0.1 in /usr/local/lib/python3.6/dist-packages (from matplotlib>=2.1.2->seaborn) (1.1.0)\n",
            "Requirement already satisfied: cycler>=0.10 in /usr/local/lib/python3.6/dist-packages (from matplotlib>=2.1.2->seaborn) (0.10.0)\n",
            "Requirement already satisfied: pyparsing!=2.0.4,!=2.1.2,!=2.1.6,>=2.0.1 in /usr/local/lib/python3.6/dist-packages (from matplotlib>=2.1.2->seaborn) (2.4.6)\n",
            "Requirement already satisfied: six>=1.5 in /usr/local/lib/python3.6/dist-packages (from python-dateutil>=2.6.1->pandas>=0.22.0->seaborn) (1.12.0)\n",
            "Requirement already satisfied: setuptools in /usr/local/lib/python3.6/dist-packages (from kiwisolver>=1.0.1->matplotlib>=2.1.2->seaborn) (46.0.0)\n"
          ],
          "name": "stdout"
        }
      ]
    },
    {
      "cell_type": "code",
      "metadata": {
        "id": "1pnHcdx8TLDu",
        "colab_type": "code",
        "outputId": "368adff0-e2a7-4192-9fa5-be43b7baaf67",
        "colab": {
          "base_uri": "https://localhost:8080/",
          "height": 34
        }
      },
      "source": [
        "from google.colab import drive\n",
        "drive.mount('/content/drive')"
      ],
      "execution_count": 111,
      "outputs": [
        {
          "output_type": "stream",
          "text": [
            "Drive already mounted at /content/drive; to attempt to forcibly remount, call drive.mount(\"/content/drive\", force_remount=True).\n"
          ],
          "name": "stdout"
        }
      ]
    },
    {
      "cell_type": "code",
      "metadata": {
        "id": "LtYarbJfTMRi",
        "colab_type": "code",
        "colab": {}
      },
      "source": [
        "sheet_name = \"normal.csv\"\n",
        "path_real= \"data/Physical/swat-attack-v0.xlsx\"\n",
        "path_test= \"data/Physical/swat-normal-v0.xlsx\"\n",
        "path_collab=\"../content/drive/My Drive/swat-attack-v0.xlsx\"\n",
        "dataset = pd.read_excel(path_collab,skipinitialspace=True)"
      ],
      "execution_count": 0,
      "outputs": []
    },
    {
      "cell_type": "code",
      "metadata": {
        "id": "nsfXa1qGTNkt",
        "colab_type": "code",
        "colab": {}
      },
      "source": [
        "import matplotlib.pyplot as plt\n",
        "def plot_confusion_matrix(y_true, y_pred, classes,\n",
        "                          normalize=False,\n",
        "                          title=None,\n",
        "                          cmap=plt.cm.Blues):\n",
        "    \"\"\"\n",
        "    This function prints and plots the confusion matrix.\n",
        "    Normalization can be applied by setting `normalize=True`.\n",
        "    \"\"\"\n",
        "    if not title:\n",
        "        if normalize:\n",
        "            title = 'Normalized confusion matrix'\n",
        "        else:\n",
        "            title = 'Confusion matrix, without normalization'\n",
        "\n",
        "    # Compute confusion matrix\n",
        "    cm = confusion_matrix(y_true, y_pred)\n",
        "    # Only use the labels that appear in the data\n",
        "    #classes = classes[unique_labels(y_true, y_pred)]\n",
        "    #classes=classes\n",
        "    if normalize:\n",
        "        cm = cm.astype('float') / cm.sum(axis=1)[:, np.newaxis]\n",
        "        print(\"Normalized confusion matrix\")\n",
        "    else:\n",
        "        print('Confusion matrix, without normalization')\n",
        "\n",
        "    print(cm)\n",
        "\n",
        "    fig, ax = plt.subplots()\n",
        "    im = ax.imshow(cm, interpolation='nearest', cmap=cmap)\n",
        "    ax.figure.colorbar(im, ax=ax)\n",
        "    # We want to show all ticks...\n",
        "    ax.set(xticks=np.arange(cm.shape[1]),\n",
        "           yticks=np.arange(cm.shape[0]),\n",
        "           # ... and label them with the respective list entries\n",
        "           xticklabels=classes, yticklabels=classes,\n",
        "           title=title,\n",
        "           ylabel='True label',\n",
        "           xlabel='Predicted label')\n",
        "\n",
        "    # Rotate the tick labels and set their alignment.\n",
        "    plt.setp(ax.get_xticklabels(), rotation=45, ha=\"right\",\n",
        "             rotation_mode=\"anchor\")\n",
        "\n",
        "    # Loop over data dimensions and create text annotations.\n",
        "    fmt = '.2f' if normalize else 'd'\n",
        "    thresh = cm.max() / 2.\n",
        "    for i in range(cm.shape[0]):\n",
        "        for j in range(cm.shape[1]):\n",
        "            ax.text(j, i, format(cm[i, j], fmt),\n",
        "                    ha=\"center\", va=\"center\",\n",
        "                    color=\"white\" if cm[i, j] > thresh else \"black\")\n",
        "    fig.tight_layout()\n",
        "    return ax\n"
      ],
      "execution_count": 0,
      "outputs": []
    },
    {
      "cell_type": "code",
      "metadata": {
        "id": "xUnbsf6_TR3c",
        "colab_type": "code",
        "colab": {}
      },
      "source": [
        "dataset.columns = map(lambda s:s.strip(), dataset.columns)\n",
        "categorical_cols=['MV101','P101','P102','MV201','P201','P202','P203','P204','P205','P206','MV301','MV302','MV303','MV304','P301','P302','P401','P402','P403','P404','UV401','P501','P502','P601','P602','P603']\n",
        "for colname in categorical_cols:\n",
        "  dataset[colname] = dataset[colname].astype('category')\n",
        "\n",
        "for column in dataset.columns: #Label encoder\n",
        "    if dataset[column].dtype == type(object):\n",
        "        le = preprocessing.LabelEncoder()\n",
        "        dataset[column] = le.fit_transform(dataset[column])\n",
        "        \n",
        "X = dataset.iloc[:, 1:52]  \n",
        "y = dataset.iloc[:, 52]\n",
        "#scaler = StandardScaler()\n",
        "#X = scaler.fit_transform(X)\n",
        "#y[2:10]\n"
      ],
      "execution_count": 0,
      "outputs": []
    },
    {
      "cell_type": "code",
      "metadata": {
        "id": "voWj0vYcTTrG",
        "colab_type": "code",
        "colab": {}
      },
      "source": [
        "header = list()\n",
        "\n",
        "for i in dataset.columns:\n",
        "  if i not in ['Timestamp','Class']:\n",
        "    header.append(i)"
      ],
      "execution_count": 0,
      "outputs": []
    },
    {
      "cell_type": "markdown",
      "metadata": {
        "id": "JPDrgDkLjsO6",
        "colab_type": "text"
      },
      "source": [
        "Scale data and do balanced rf"
      ]
    },
    {
      "cell_type": "code",
      "metadata": {
        "id": "p713s0NATU3_",
        "colab_type": "code",
        "outputId": "29868ce0-591e-4457-c5f2-6c29005567bd",
        "colab": {
          "base_uri": "https://localhost:8080/",
          "height": 136
        }
      },
      "source": [
        "from imblearn.ensemble import BalancedRandomForestClassifier\n",
        "scaler = StandardScaler()\n",
        "X_train, X_test, y_train, y_test = train_test_split(X, y, test_size=0.31, random_state=0,stratify=y)  \n",
        "instance = X_train.sample(n=50000).values #instance randomized to avoid RAM error\n",
        "# Scale data (standardize it)\n",
        "scaler.fit_transform(X_train)\n",
        "scaler.transform(X_test)\n"
      ],
      "execution_count": 116,
      "outputs": [
        {
          "output_type": "execute_result",
          "data": {
            "text/plain": [
              "array([[ 0.64,  2.06,  0.69, ...,  0.  , -0.1 ,  0.  ],\n",
              "       [ 0.7 ,  1.3 ,  0.69, ...,  0.  , -0.1 ,  0.  ],\n",
              "       [-1.44,  1.64, -1.38, ...,  0.  , -0.1 ,  0.  ],\n",
              "       ...,\n",
              "       [ 0.67, -0.85,  0.69, ...,  0.  , -0.1 ,  0.  ],\n",
              "       [ 0.71, -0.87,  0.69, ...,  0.  , -0.1 ,  0.  ],\n",
              "       [ 0.75, -0.78,  0.69, ...,  0.  , -0.1 ,  0.  ]])"
            ]
          },
          "metadata": {
            "tags": []
          },
          "execution_count": 116
        }
      ]
    },
    {
      "cell_type": "code",
      "metadata": {
        "id": "bWb3q8ieTYae",
        "colab_type": "code",
        "outputId": "e278aa90-bb7b-44ee-9bff-8f5a50d94762",
        "colab": {
          "base_uri": "https://localhost:8080/",
          "height": 170
        }
      },
      "source": [
        "from imblearn.metrics import classification_report_imbalanced\n",
        "clf = BalancedRandomForestClassifier(max_depth=None, random_state=0,oob_score=True,n_estimators=100)\n",
        "clf.fit(X_train,y_train)\n",
        "\n",
        "\n",
        "y_pred = clf.predict(X_test)\n",
        "y_pred= pd.DataFrame(y_pred)\n",
        "print(classification_report_imbalanced(y_test, y_pred,     target_names=[\"0\",\"1\"]))"
      ],
      "execution_count": 117,
      "outputs": [
        {
          "output_type": "stream",
          "text": [
            "/usr/local/lib/python3.6/dist-packages/imblearn/ensemble/_forest.py:591: UserWarning: Some inputs do not have OOB scores. This probably means too few trees were used to compute any reliable oob estimates.\n",
            "  warn(\"Some inputs do not have OOB scores. \"\n"
          ],
          "name": "stderr"
        },
        {
          "output_type": "stream",
          "text": [
            "                   pre       rec       spe        f1       geo       iba       sup\n",
            "\n",
            "          0       0.99      1.00      1.00      0.99      1.00      1.00     16933\n",
            "          1       1.00      1.00      1.00      1.00      1.00      1.00    122542\n",
            "\n",
            "avg / total       1.00      1.00      1.00      1.00      1.00      1.00    139475\n",
            "\n"
          ],
          "name": "stdout"
        }
      ]
    },
    {
      "cell_type": "code",
      "metadata": {
        "id": "xfEdFmIITaJR",
        "colab_type": "code",
        "outputId": "538767dc-f4e7-44a5-cb04-c8c772dcc7c3",
        "colab": {
          "base_uri": "https://localhost:8080/",
          "height": 51
        }
      },
      "source": [
        "clf_probs = clf.predict_proba(X_test)[:,1]\n",
        "clf_probs0 = clf.predict_proba(X_test)[:,0]\n",
        "print(roc_auc_score(y_test, clf_probs,average=\"weighted\"))\n",
        "print(roc_auc_score(y_test, clf_probs0,average=\"weighted\"))"
      ],
      "execution_count": 118,
      "outputs": [
        {
          "output_type": "stream",
          "text": [
            "0.9999981426539019\n",
            "1.8573460982275964e-06\n"
          ],
          "name": "stdout"
        }
      ]
    },
    {
      "cell_type": "code",
      "metadata": {
        "id": "NkilLnj1Thkr",
        "colab_type": "code",
        "outputId": "68153363-e03d-4f48-d023-53d1b8c34d57",
        "colab": {
          "base_uri": "https://localhost:8080/",
          "height": 348
        }
      },
      "source": [
        "np.set_printoptions(precision=2)\n",
        "from sklearn.utils.multiclass import unique_labels\n",
        "#classes_spr = list(unique_labels(y_test, y_pred))\n",
        "classes_spr = [\"0\",\"1\"]\n",
        "plot_confusion_matrix(y_test, y_pred, classes=classes_spr, normalize=False,\n",
        "                      title='confusion matrix for Balanced Random Forest')\n",
        "plt.show()"
      ],
      "execution_count": 119,
      "outputs": [
        {
          "output_type": "stream",
          "text": [
            "Confusion matrix, without normalization\n",
            "[[ 16933      0]\n",
            " [   184 122358]]\n"
          ],
          "name": "stdout"
        },
        {
          "output_type": "display_data",
          "data": {
            "image/png": "[encoded data removed]",
            "text/plain": [
              "<Figure size 432x288 with 2 Axes>"
            ]
          },
          "metadata": {
            "tags": []
          }
        }
      ]
    },
    {
      "cell_type": "code",
      "metadata": {
        "id": "LNmqUlJv_SuF",
        "colab_type": "code",
        "outputId": "ce543935-aed2-4856-b016-61c4943f5b86",
        "colab": {
          "base_uri": "https://localhost:8080/",
          "height": 51
        }
      },
      "source": [
        "from treeinterpreter import treeinterpreter as ti\n",
        "from collections import defaultdict \n",
        "import random\n",
        "class1=defaultdict(list)\n",
        "class2=defaultdict(list)\n",
        "#instance = X_test.sample(n=50000).values #instance randomized to avoid RAM error\n",
        "prediction, bias, contributions = ti.predict(clf, instance)\n",
        "#print (\"Prediction\", prediction)\n",
        "#print (\"Bias (trainset prior)\", bias)\n",
        "print (\"Feature contributions:\")\n",
        "test =list()\n",
        "count = 0\n",
        "for i in range(len(instance)):\n",
        "  for c,feature in zip(contributions[i],header):\n",
        "    #print (feature,c)\n",
        "    fc_class1 = c[0]\n",
        "    fc_class2=c[1]\n",
        "    class1[feature].append(fc_class1)\n",
        "    class2[feature].append(fc_class2)\n",
        "  count+=1\n",
        "\n",
        "#np.sum(contributions,axis=1)\n",
        "print(count)\n",
        "\n",
        "import statistics as sts\n",
        "class1_fixed=list()\n",
        "class2_fixed=list()\n",
        "for header_name in header:\n",
        "  array_value = class1[header_name]\n",
        "  class2_array_value = class2[header_name]\n",
        "  class1_fixed.append(sts.median(array_value))\n",
        "  class2_fixed.append(sts.median(class2_array_value))"
      ],
      "execution_count": 120,
      "outputs": [
        {
          "output_type": "stream",
          "text": [
            "Feature contributions:\n",
            "50000\n"
          ],
          "name": "stdout"
        }
      ]
    },
    {
      "cell_type": "code",
      "metadata": {
        "id": "KwJ6lP7VAIo3",
        "colab_type": "code",
        "outputId": "3f547f76-c1f5-4366-c45a-6bbb71a4f6c2",
        "colab": {
          "base_uri": "https://localhost:8080/",
          "height": 639
        }
      },
      "source": [
        "N= len(header)\n",
        "fig, ax = plt.subplots(figsize=(13,10))\n",
        "ind = np.arange(len(class1_fixed))   \n",
        "width = 0.45\n",
        "#fig.subplots_adjust(bottom=0.6)\n",
        "p1 = ax.bar(ind, class1_fixed, width, color='red', bottom=0)\n",
        "p2 = ax.bar(ind+width, class2_fixed, width, color='green', bottom=0)\n",
        "ax.set_title('Feature Contribution ')\n",
        "ax.set_xticks(ind + width / 2)\n",
        "ax.set_xticklabels(header, rotation = 90)\n",
        "\n",
        "\n",
        "plt.draw()\n",
        "plt.savefig(\"fc1 standard balanced rf.png\",dpi=100)\n",
        "#files.download(\"fc1 standard balanced rf.png\")\n",
        "plt.show()\n",
        "plt.close(fig)  "
      ],
      "execution_count": 121,
      "outputs": [
        {
          "output_type": "display_data",
          "data": {
            "image/png": "[encoded data removed]",
            "text/plain": [
              "<Figure size 936x720 with 1 Axes>"
            ]
          },
          "metadata": {
            "tags": []
          }
        }
      ]
    },
    {
      "cell_type": "code",
      "metadata": {
        "id": "1zXSyzN1An0O",
        "colab_type": "code",
        "outputId": "a5a91712-8d11-42c4-da02-df85e2e734af",
        "colab": {
          "base_uri": "https://localhost:8080/",
          "height": 153
        }
      },
      "source": [
        "clf_rf = RandomForestClassifier(max_depth=None, random_state=1,oob_score=True,n_estimators=90,class_weight=\"balanced\")\n",
        "clf_rf.fit(X_train,y_train)  "
      ],
      "execution_count": 122,
      "outputs": [
        {
          "output_type": "execute_result",
          "data": {
            "text/plain": [
              "RandomForestClassifier(bootstrap=True, ccp_alpha=0.0, class_weight='balanced',\n",
              "                       criterion='gini', max_depth=None, max_features='auto',\n",
              "                       max_leaf_nodes=None, max_samples=None,\n",
              "                       min_impurity_decrease=0.0, min_impurity_split=None,\n",
              "                       min_samples_leaf=1, min_samples_split=2,\n",
              "                       min_weight_fraction_leaf=0.0, n_estimators=90,\n",
              "                       n_jobs=None, oob_score=True, random_state=1, verbose=0,\n",
              "                       warm_start=False)"
            ]
          },
          "metadata": {
            "tags": []
          },
          "execution_count": 122
        }
      ]
    },
    {
      "cell_type": "code",
      "metadata": {
        "id": "9hfhhc3-DQu-",
        "colab_type": "code",
        "outputId": "2ebfa5e9-13ea-48c3-ebff-79d62b1d1ee4",
        "colab": {
          "base_uri": "https://localhost:8080/",
          "height": 170
        }
      },
      "source": [
        "y_pred_rfsmote = pd.DataFrame(clf_rf.predict(X_test))\n",
        "rf_probs = clf_rf.predict_proba(X_test)[:, 0]\n",
        "rf_probs2 = clf_rf.predict_proba(X_test)[:, 1]\n",
        "print(classification_report(y_test, y_pred_rfsmote, target_names=classes_spr))\n"
      ],
      "execution_count": 123,
      "outputs": [
        {
          "output_type": "stream",
          "text": [
            "              precision    recall  f1-score   support\n",
            "\n",
            "           0       1.00      1.00      1.00     16933\n",
            "           1       1.00      1.00      1.00    122542\n",
            "\n",
            "    accuracy                           1.00    139475\n",
            "   macro avg       1.00      1.00      1.00    139475\n",
            "weighted avg       1.00      1.00      1.00    139475\n",
            "\n"
          ],
          "name": "stdout"
        }
      ]
    },
    {
      "cell_type": "code",
      "metadata": {
        "id": "tZuJ7Nz5R_7_",
        "colab_type": "code",
        "outputId": "8b6d5543-3958-4836-87e1-dc24a7c08463",
        "colab": {
          "base_uri": "https://localhost:8080/",
          "height": 348
        }
      },
      "source": [
        "np.set_printoptions(precision=2)\n",
        "from sklearn.utils.multiclass import unique_labels\n",
        "#classes_spr = list(unique_labels(y_test, y_pred))\n",
        "plot_confusion_matrix(y_test, y_pred_rfsmote, classes=classes_spr, normalize=False,\n",
        "                      title='confusion matrix for Normal Random Forest')\n",
        "plt.show()"
      ],
      "execution_count": 124,
      "outputs": [
        {
          "output_type": "stream",
          "text": [
            "Confusion matrix, without normalization\n",
            "[[ 16919     14]\n",
            " [    16 122526]]\n"
          ],
          "name": "stdout"
        },
        {
          "output_type": "display_data",
          "data": {
            "image/png": "[encoded data removed]",
            "text/plain": [
              "<Figure size 432x288 with 2 Axes>"
            ]
          },
          "metadata": {
            "tags": []
          }
        }
      ]
    },
    {
      "cell_type": "code",
      "metadata": {
        "id": "olaYvVeaSZYI",
        "colab_type": "code",
        "outputId": "35f9d89c-10b4-43e5-ff47-6e5a215992a3",
        "colab": {
          "base_uri": "https://localhost:8080/",
          "height": 51
        }
      },
      "source": [
        "from treeinterpreter import treeinterpreter as ti\n",
        "from collections import defaultdict \n",
        "import random\n",
        "class1=defaultdict(list)\n",
        "class2=defaultdict(list)\n",
        "#instance = X_test.sample(n=50000).values #instance randomized to avoid RAM error\n",
        "prediction, bias, contributions = ti.predict(clf_rf, instance)\n",
        "#print (\"Prediction\", prediction)\n",
        "#print (\"Bias (trainset prior)\", bias)\n",
        "print (\"Feature contributions:\")\n",
        "test =list()\n",
        "count = 0\n",
        "for i in range(len(instance)):\n",
        "  for c,feature in zip(contributions[i],header):\n",
        "    #print (feature,c)\n",
        "    fc_class1 = c[0]\n",
        "    fc_class2=c[1]\n",
        "    class1[feature].append(fc_class1)\n",
        "    class2[feature].append(fc_class2)\n",
        "  count+=1\n",
        "\n",
        "#np.sum(contributions,axis=1)\n",
        "print(count)\n",
        "\n",
        "import statistics as sts\n",
        "class1_fixed=list()\n",
        "class2_fixed=list()\n",
        "for header_name in header:\n",
        "  array_value = class1[header_name]\n",
        "  class2_array_value = class2[header_name]\n",
        "  class1_fixed.append(sts.median(array_value))\n",
        "  class2_fixed.append(sts.median(class2_array_value))"
      ],
      "execution_count": 125,
      "outputs": [
        {
          "output_type": "stream",
          "text": [
            "Feature contributions:\n",
            "50000\n"
          ],
          "name": "stdout"
        }
      ]
    },
    {
      "cell_type": "code",
      "metadata": {
        "id": "1lAWJp0xSdrK",
        "colab_type": "code",
        "outputId": "86013b0e-8a59-42b7-af1f-6832cc0ce120",
        "colab": {
          "base_uri": "https://localhost:8080/",
          "height": 585
        }
      },
      "source": [
        "N= len(header)\n",
        "fig, ax = plt.subplots(figsize=(10,9))\n",
        "ind = np.arange(len(class1_fixed))   \n",
        "width = 0.4\n",
        "\n",
        "p1 = ax.bar(ind, class1_fixed, width, color='red', bottom=0)\n",
        "p2 = ax.bar(ind+width, class2_fixed, width, color='green', bottom=0)\n",
        "ax.set_title('Feature Contribution ')\n",
        "ax.set_xticks(ind + width / 2)\n",
        "ax.set_xticklabels(header, rotation = 90)\n",
        "\n",
        "\n",
        "plt.draw()\n",
        "plt.savefig(\"fc1 standard balanced rf.png\",dpi=100)\n",
        "#files.download(\"fc1 standard balanced rf.png\")\n",
        "plt.show()\n",
        "plt.close(fig)  "
      ],
      "execution_count": 126,
      "outputs": [
        {
          "output_type": "display_data",
          "data": {
            "image/png": "[encoded data removed]",
            "text/plain": [
              "<Figure size 720x648 with 1 Axes>"
            ]
          },
          "metadata": {
            "tags": []
          }
        }
      ]
    },
    {
      "cell_type": "code",
      "metadata": {
        "id": "ENqRU7ZhWIiH",
        "colab_type": "code",
        "outputId": "a7ce77ff-f2a3-4ad5-9c63-09dd9caace54",
        "colab": {
          "base_uri": "https://localhost:8080/",
          "height": 170
        }
      },
      "source": [
        "print(classification_report(y_test, pd.DataFrame(y_pred_rfsmote), target_names=classes_spr))\n"
      ],
      "execution_count": 127,
      "outputs": [
        {
          "output_type": "stream",
          "text": [
            "              precision    recall  f1-score   support\n",
            "\n",
            "           0       1.00      1.00      1.00     16933\n",
            "           1       1.00      1.00      1.00    122542\n",
            "\n",
            "    accuracy                           1.00    139475\n",
            "   macro avg       1.00      1.00      1.00    139475\n",
            "weighted avg       1.00      1.00      1.00    139475\n",
            "\n"
          ],
          "name": "stdout"
        }
      ]
    },
    {
      "cell_type": "markdown",
      "metadata": {
        "id": "BXxLfqHqL8dF",
        "colab_type": "text"
      },
      "source": [
        "RF of tree 10, 50,100,1000"
      ]
    },
    {
      "cell_type": "code",
      "metadata": {
        "id": "3VCb7KKOMCRv",
        "colab_type": "code",
        "outputId": "ab57a9aa-4253-4094-9657-d4f6a32eaa7f",
        "colab": {
          "base_uri": "https://localhost:8080/",
          "height": 221
        }
      },
      "source": [
        "clf_rf10 = RandomForestClassifier(max_depth=None, random_state=1,oob_score=True,n_estimators=10,class_weight=\"balanced\")\n",
        "clf_rf10.fit(X_train,y_train) \n",
        "\n"
      ],
      "execution_count": 128,
      "outputs": [
        {
          "output_type": "stream",
          "text": [
            "/usr/local/lib/python3.6/dist-packages/sklearn/ensemble/_forest.py:523: UserWarning: Some inputs do not have OOB scores. This probably means too few trees were used to compute any reliable oob estimates.\n",
            "  warn(\"Some inputs do not have OOB scores. \"\n",
            "/usr/local/lib/python3.6/dist-packages/sklearn/ensemble/_forest.py:528: RuntimeWarning: invalid value encountered in true_divide\n",
            "  predictions[k].sum(axis=1)[:, np.newaxis])\n"
          ],
          "name": "stderr"
        },
        {
          "output_type": "execute_result",
          "data": {
            "text/plain": [
              "RandomForestClassifier(bootstrap=True, ccp_alpha=0.0, class_weight='balanced',\n",
              "                       criterion='gini', max_depth=None, max_features='auto',\n",
              "                       max_leaf_nodes=None, max_samples=None,\n",
              "                       min_impurity_decrease=0.0, min_impurity_split=None,\n",
              "                       min_samples_leaf=1, min_samples_split=2,\n",
              "                       min_weight_fraction_leaf=0.0, n_estimators=10,\n",
              "                       n_jobs=None, oob_score=True, random_state=1, verbose=0,\n",
              "                       warm_start=False)"
            ]
          },
          "metadata": {
            "tags": []
          },
          "execution_count": 128
        }
      ]
    },
    {
      "cell_type": "markdown",
      "metadata": {
        "id": "ddVpdbuDMbfX",
        "colab_type": "text"
      },
      "source": [
        "Metric for RF of tree size 10"
      ]
    },
    {
      "cell_type": "code",
      "metadata": {
        "id": "GjfjzRlbMZKi",
        "colab_type": "code",
        "outputId": "ee7e6da0-34d1-4b1c-8759-ccd625557082",
        "colab": {
          "base_uri": "https://localhost:8080/",
          "height": 170
        }
      },
      "source": [
        "y_pred_rf10= clf_rf10.predict(X_test)\n",
        "print(classification_report(y_test, y_pred_rf10, target_names=classes_spr))"
      ],
      "execution_count": 129,
      "outputs": [
        {
          "output_type": "stream",
          "text": [
            "              precision    recall  f1-score   support\n",
            "\n",
            "           0       1.00      1.00      1.00     16933\n",
            "           1       1.00      1.00      1.00    122542\n",
            "\n",
            "    accuracy                           1.00    139475\n",
            "   macro avg       1.00      1.00      1.00    139475\n",
            "weighted avg       1.00      1.00      1.00    139475\n",
            "\n"
          ],
          "name": "stdout"
        }
      ]
    },
    {
      "cell_type": "code",
      "metadata": {
        "id": "0XalTUGnM12u",
        "colab_type": "code",
        "outputId": "d78b2add-ebaa-4dfd-c574-e12c851b2a28",
        "colab": {
          "base_uri": "https://localhost:8080/",
          "height": 348
        }
      },
      "source": [
        "np.set_printoptions(precision=2)\n",
        "from sklearn.utils.multiclass import unique_labels\n",
        "classes_spr = list(unique_labels(y_test, y_pred_rf10))\n",
        "plot_confusion_matrix(y_test, y_pred_rf10, classes=classes_spr, normalize=False,\n",
        "                      title='confusion matrix for Normal Random Forest with 10 trees')\n",
        "plt.show()"
      ],
      "execution_count": 130,
      "outputs": [
        {
          "output_type": "stream",
          "text": [
            "Confusion matrix, without normalization\n",
            "[[ 16915     18]\n",
            " [    14 122528]]\n"
          ],
          "name": "stdout"
        },
        {
          "output_type": "display_data",
          "data": {
            "image/png": "[encoded data removed]",
            "text/plain": [
              "<Figure size 432x288 with 2 Axes>"
            ]
          },
          "metadata": {
            "tags": []
          }
        }
      ]
    },
    {
      "cell_type": "code",
      "metadata": {
        "id": "fs0JMhj4M_PO",
        "colab_type": "code",
        "outputId": "559d4b3f-df0e-490b-b185-f14bb955a55d",
        "colab": {
          "base_uri": "https://localhost:8080/",
          "height": 619
        }
      },
      "source": [
        "from treeinterpreter import treeinterpreter as ti\n",
        "from collections import defaultdict \n",
        "import random\n",
        "class1=defaultdict(list)\n",
        "class2=defaultdict(list)\n",
        "#instance = X_test.sample(n=50000).values #instance randomized to avoid RAM error\n",
        "prediction, bias, contributions = ti.predict(clf_rf10, instance)\n",
        "#print (\"Prediction\", prediction)\n",
        "#print (\"Bias (trainset prior)\", bias)\n",
        "print (\"Feature contributions:\")\n",
        "test =list()\n",
        "count = 0\n",
        "for i in range(len(instance)):\n",
        "  for c,feature in zip(contributions[i],header):\n",
        "    #print (feature,c)\n",
        "    fc_class1 = c[0]\n",
        "    fc_class2=c[1]\n",
        "    class1[feature].append(fc_class1)\n",
        "    class2[feature].append(fc_class2)\n",
        "  count+=1\n",
        "\n",
        "#np.sum(contributions,axis=1)\n",
        "print(count)\n",
        "\n",
        "import statistics as sts\n",
        "class1_fixed=list()\n",
        "class2_fixed=list()\n",
        "for header_name in header:\n",
        "  array_value = class1[header_name]\n",
        "  class2_array_value = class2[header_name]\n",
        "  class1_fixed.append(sts.median(array_value))\n",
        "  class2_fixed.append(sts.median(class2_array_value))\n",
        "  \n",
        "N= len(header)\n",
        "fig, ax = plt.subplots(figsize=(10,9))\n",
        "ind = np.arange(len(class1_fixed))   \n",
        "width = 0.4\n",
        "\n",
        "p1 = ax.bar(ind, class1_fixed, width, color='red', bottom=0)\n",
        "p2 = ax.bar(ind+width, class2_fixed, width, color='green', bottom=0)\n",
        "ax.set_title('Feature Contribution RF10')\n",
        "ax.set_xticks(ind + width / 2)\n",
        "ax.set_xticklabels(header, rotation = 90)\n",
        "\n",
        "\n",
        "plt.draw()\n",
        "plt.savefig(\"fc1 standard balanced rf.png\",dpi=100)\n",
        "#files.download(\"fc1 standard balanced rf.png\")\n",
        "plt.show()\n",
        "plt.close(fig)    "
      ],
      "execution_count": 131,
      "outputs": [
        {
          "output_type": "stream",
          "text": [
            "Feature contributions:\n",
            "50000\n"
          ],
          "name": "stdout"
        },
        {
          "output_type": "display_data",
          "data": {
            "image/png": "[encoded data removed]",
            "text/plain": [
              "<Figure size 720x648 with 1 Axes>"
            ]
          },
          "metadata": {
            "tags": []
          }
        }
      ]
    },
    {
      "cell_type": "markdown",
      "metadata": {
        "id": "728oimPeNer4",
        "colab_type": "text"
      },
      "source": [
        "RF with 50 trees"
      ]
    },
    {
      "cell_type": "code",
      "metadata": {
        "id": "eAMUT8JYNhwk",
        "colab_type": "code",
        "outputId": "499242d1-f805-43a9-9c51-df5226685ac3",
        "colab": {
          "base_uri": "https://localhost:8080/",
          "height": 153
        }
      },
      "source": [
        "clf_rf50 = RandomForestClassifier(max_depth=None, random_state=1,oob_score=True,n_estimators=50,class_weight=\"balanced\")\n",
        "clf_rf50.fit(X_train,y_train)"
      ],
      "execution_count": 132,
      "outputs": [
        {
          "output_type": "execute_result",
          "data": {
            "text/plain": [
              "RandomForestClassifier(bootstrap=True, ccp_alpha=0.0, class_weight='balanced',\n",
              "                       criterion='gini', max_depth=None, max_features='auto',\n",
              "                       max_leaf_nodes=None, max_samples=None,\n",
              "                       min_impurity_decrease=0.0, min_impurity_split=None,\n",
              "                       min_samples_leaf=1, min_samples_split=2,\n",
              "                       min_weight_fraction_leaf=0.0, n_estimators=50,\n",
              "                       n_jobs=None, oob_score=True, random_state=1, verbose=0,\n",
              "                       warm_start=False)"
            ]
          },
          "metadata": {
            "tags": []
          },
          "execution_count": 132
        }
      ]
    },
    {
      "cell_type": "code",
      "metadata": {
        "id": "gsFga-BKNlLc",
        "colab_type": "code",
        "outputId": "b727950b-9296-445c-ac5c-465b3e7d3dd6",
        "colab": {
          "base_uri": "https://localhost:8080/",
          "height": 170
        }
      },
      "source": [
        "y_pred_rf50= clf_rf50.predict(X_test)\n",
        "print(classification_report(y_test, pd.DataFrame(y_pred_rf50), target_names=[\"0\",\"1\"]))"
      ],
      "execution_count": 133,
      "outputs": [
        {
          "output_type": "stream",
          "text": [
            "              precision    recall  f1-score   support\n",
            "\n",
            "           0       1.00      1.00      1.00     16933\n",
            "           1       1.00      1.00      1.00    122542\n",
            "\n",
            "    accuracy                           1.00    139475\n",
            "   macro avg       1.00      1.00      1.00    139475\n",
            "weighted avg       1.00      1.00      1.00    139475\n",
            "\n"
          ],
          "name": "stdout"
        }
      ]
    },
    {
      "cell_type": "code",
      "metadata": {
        "id": "17gTfMHLO2vY",
        "colab_type": "code",
        "outputId": "8e763d64-8849-458a-a7b9-490b66e792a0",
        "colab": {
          "base_uri": "https://localhost:8080/",
          "height": 348
        }
      },
      "source": [
        "np.set_printoptions(precision=2)\n",
        "from sklearn.utils.multiclass import unique_labels\n",
        "classes_spr = list(unique_labels(y_test, y_pred_rf50))\n",
        "plot_confusion_matrix(y_test, y_pred_rf50, classes=classes_spr, normalize=False,\n",
        "                      title='confusion matrix for Normal Random Forest with 50 trees')\n",
        "plt.show()"
      ],
      "execution_count": 134,
      "outputs": [
        {
          "output_type": "stream",
          "text": [
            "Confusion matrix, without normalization\n",
            "[[ 16917     16]\n",
            " [    16 122526]]\n"
          ],
          "name": "stdout"
        },
        {
          "output_type": "display_data",
          "data": {
            "image/png": "[encoded data removed]",
            "text/plain": [
              "<Figure size 432x288 with 2 Axes>"
            ]
          },
          "metadata": {
            "tags": []
          }
        }
      ]
    },
    {
      "cell_type": "code",
      "metadata": {
        "id": "-1AhGN-4Nx9E",
        "colab_type": "code",
        "outputId": "65697328-d656-4fae-ac25-ab3ce03b8547",
        "colab": {
          "base_uri": "https://localhost:8080/",
          "height": 619
        }
      },
      "source": [
        "from treeinterpreter import treeinterpreter as ti\n",
        "from collections import defaultdict \n",
        "import random\n",
        "class1=defaultdict(list)\n",
        "class2=defaultdict(list)\n",
        "#instance = X_test.sample(n=50000).values #instance randomized to avoid RAM error\n",
        "prediction, bias, contributions = ti.predict(clf_rf50, instance)\n",
        "#print (\"Prediction\", prediction)\n",
        "#print (\"Bias (trainset prior)\", bias)\n",
        "print (\"Feature contributions for rf50:\")\n",
        "test =list()\n",
        "count = 0\n",
        "for i in range(len(instance)):\n",
        "  for c,feature in zip(contributions[i],header):\n",
        "    #print (feature,c)\n",
        "    fc_class1 = c[0]\n",
        "    fc_class2=c[1]\n",
        "    class1[feature].append(fc_class1)\n",
        "    class2[feature].append(fc_class2)\n",
        "  count+=1\n",
        "\n",
        "#np.sum(contributions,axis=1)\n",
        "print(count)\n",
        "\n",
        "import statistics as sts\n",
        "class1_fixed=list()\n",
        "class2_fixed=list()\n",
        "for header_name in header:\n",
        "  array_value = class1[header_name]\n",
        "  class2_array_value = class2[header_name]\n",
        "  class1_fixed.append(sts.median(array_value))\n",
        "  class2_fixed.append(sts.median(class2_array_value))\n",
        "  \n",
        "N= len(header)\n",
        "fig, ax = plt.subplots(figsize=(10,9))\n",
        "ind = np.arange(len(class1_fixed))   \n",
        "width = 0.4\n",
        "\n",
        "p1 = ax.bar(ind, class1_fixed, width, color='red', bottom=0)\n",
        "p2 = ax.bar(ind+width, class2_fixed, width, color='green', bottom=0)\n",
        "ax.set_title('Feature Contribution RF50')\n",
        "ax.set_xticks(ind + width / 2)\n",
        "ax.set_xticklabels(header, rotation = 90)\n",
        "\n",
        "\n",
        "plt.draw()\n",
        "plt.savefig(\"fc1 standard balanced rf.png\",dpi=100)\n",
        "#files.download(\"fc1 standard balanced rf.png\")\n",
        "plt.show()\n",
        "plt.close(fig)   "
      ],
      "execution_count": 135,
      "outputs": [
        {
          "output_type": "stream",
          "text": [
            "Feature contributions for rf50:\n",
            "50000\n"
          ],
          "name": "stdout"
        },
        {
          "output_type": "display_data",
          "data": {
            "image/png": "[encoded data removed]",
            "text/plain": [
              "<Figure size 720x648 with 1 Axes>"
            ]
          },
          "metadata": {
            "tags": []
          }
        }
      ]
    },
    {
      "cell_type": "markdown",
      "metadata": {
        "id": "Z9grFmD9N2vH",
        "colab_type": "text"
      },
      "source": [
        "RF for 100 trees"
      ]
    },
    {
      "cell_type": "code",
      "metadata": {
        "id": "jRlRezW4N4fI",
        "colab_type": "code",
        "outputId": "ea89af20-4224-4920-f6c7-0da4291338f4",
        "colab": {
          "base_uri": "https://localhost:8080/",
          "height": 153
        }
      },
      "source": [
        "clf_rf100 = RandomForestClassifier(max_depth=None, random_state=1,oob_score=True,n_estimators=100,class_weight=\"balanced\")\n",
        "clf_rf100.fit(X_train,y_train)"
      ],
      "execution_count": 136,
      "outputs": [
        {
          "output_type": "execute_result",
          "data": {
            "text/plain": [
              "RandomForestClassifier(bootstrap=True, ccp_alpha=0.0, class_weight='balanced',\n",
              "                       criterion='gini', max_depth=None, max_features='auto',\n",
              "                       max_leaf_nodes=None, max_samples=None,\n",
              "                       min_impurity_decrease=0.0, min_impurity_split=None,\n",
              "                       min_samples_leaf=1, min_samples_split=2,\n",
              "                       min_weight_fraction_leaf=0.0, n_estimators=100,\n",
              "                       n_jobs=None, oob_score=True, random_state=1, verbose=0,\n",
              "                       warm_start=False)"
            ]
          },
          "metadata": {
            "tags": []
          },
          "execution_count": 136
        }
      ]
    },
    {
      "cell_type": "code",
      "metadata": {
        "id": "BvTGFJfxN8YR",
        "colab_type": "code",
        "outputId": "cdfee99d-e599-4ae9-f461-ed0bdb67b14a",
        "colab": {
          "base_uri": "https://localhost:8080/",
          "height": 170
        }
      },
      "source": [
        "y_pred_rf100= clf_rf100.predict(X_test)\n",
        "print(classification_report(y_test, pd.DataFrame(y_pred_rf100), target_names=[\"0\",\"1\"]))"
      ],
      "execution_count": 137,
      "outputs": [
        {
          "output_type": "stream",
          "text": [
            "              precision    recall  f1-score   support\n",
            "\n",
            "           0       1.00      1.00      1.00     16933\n",
            "           1       1.00      1.00      1.00    122542\n",
            "\n",
            "    accuracy                           1.00    139475\n",
            "   macro avg       1.00      1.00      1.00    139475\n",
            "weighted avg       1.00      1.00      1.00    139475\n",
            "\n"
          ],
          "name": "stdout"
        }
      ]
    },
    {
      "cell_type": "code",
      "metadata": {
        "id": "AJmHDDdbO8mU",
        "colab_type": "code",
        "outputId": "5b7cecde-8f2f-43d7-913f-03cc3928d8f5",
        "colab": {
          "base_uri": "https://localhost:8080/",
          "height": 348
        }
      },
      "source": [
        "np.set_printoptions(precision=2)\n",
        "from sklearn.utils.multiclass import unique_labels\n",
        "#classes_spr = list(unique_labels(y_test, y_pred_rf100))\n",
        "classes_spr=['0','1']\n",
        "plot_confusion_matrix(y_test, y_pred_rf100, classes=classes_spr, normalize=False,\n",
        "                      title='confusion matrix for Normal Random Forest with 100 trees')\n",
        "plt.show()"
      ],
      "execution_count": 138,
      "outputs": [
        {
          "output_type": "stream",
          "text": [
            "Confusion matrix, without normalization\n",
            "[[ 16919     14]\n",
            " [    17 122525]]\n"
          ],
          "name": "stdout"
        },
        {
          "output_type": "display_data",
          "data": {
            "image/png": "[encoded data removed]",
            "text/plain": [
              "<Figure size 432x288 with 2 Axes>"
            ]
          },
          "metadata": {
            "tags": []
          }
        }
      ]
    },
    {
      "cell_type": "code",
      "metadata": {
        "id": "ydD-XxPCOALN",
        "colab_type": "code",
        "outputId": "64cc2630-ccd5-41d1-c7e1-eff35c7b50ed",
        "colab": {
          "base_uri": "https://localhost:8080/",
          "height": 619
        }
      },
      "source": [
        "from treeinterpreter import treeinterpreter as ti\n",
        "from collections import defaultdict \n",
        "import random\n",
        "class1=defaultdict(list)\n",
        "class2=defaultdict(list)\n",
        "#instance = X_test.sample(n=50000).values #instance randomized to avoid RAM error\n",
        "prediction, bias, contributions = ti.predict(clf_rf100, instance)\n",
        "#print (\"Prediction\", prediction)\n",
        "#print (\"Bias (trainset prior)\", bias)\n",
        "print (\"Feature contributions for rf100:\")\n",
        "test =list()\n",
        "count = 0\n",
        "for i in range(len(instance)):\n",
        "  for c,feature in zip(contributions[i],header):\n",
        "    #print (feature,c)\n",
        "    fc_class1 = c[0]\n",
        "    fc_class2=c[1]\n",
        "    class1[feature].append(fc_class1)\n",
        "    class2[feature].append(fc_class2)\n",
        "  count+=1\n",
        "\n",
        "#np.sum(contributions,axis=1)\n",
        "print(count)\n",
        "\n",
        "import statistics as sts\n",
        "class1_fixed=list()\n",
        "class2_fixed=list()\n",
        "for header_name in header:\n",
        "  array_value = class1[header_name]\n",
        "  class2_array_value = class2[header_name]\n",
        "  class1_fixed.append(sts.median(array_value))\n",
        "  class2_fixed.append(sts.median(class2_array_value))\n",
        "  \n",
        "N= len(header)\n",
        "fig, ax = plt.subplots(figsize=(10,9))\n",
        "ind = np.arange(len(class1_fixed))   \n",
        "width = 0.4\n",
        "\n",
        "p1 = ax.bar(ind, class1_fixed, width, color='red', bottom=0)\n",
        "p2 = ax.bar(ind+width, class2_fixed, width, color='green', bottom=0)\n",
        "ax.set_title('Feature Contribution RF100')\n",
        "ax.set_xticks(ind + width / 2)\n",
        "ax.set_xticklabels(header, rotation = 90)\n",
        "\n",
        "\n",
        "plt.draw()\n",
        "plt.savefig(\"fc1 standard balanced rf.png\",dpi=100)\n",
        "#files.download(\"fc1 standard balanced rf.png\")\n",
        "plt.show()\n",
        "plt.close(fig)   "
      ],
      "execution_count": 139,
      "outputs": [
        {
          "output_type": "stream",
          "text": [
            "Feature contributions for rf100:\n",
            "50000\n"
          ],
          "name": "stdout"
        },
        {
          "output_type": "display_data",
          "data": {
            "image/png": "[encoded data removed]",
            "text/plain": [
              "<Figure size 720x648 with 1 Axes>"
            ]
          },
          "metadata": {
            "tags": []
          }
        }
      ]
    },
    {
      "cell_type": "markdown",
      "metadata": {
        "id": "_qxi0e7eOLPW",
        "colab_type": "text"
      },
      "source": [
        "RF with 500 trees"
      ]
    },
    {
      "cell_type": "markdown",
      "metadata": {
        "id": "YA8tLzsXXTPa",
        "colab_type": "text"
      },
      "source": [
        "**SVM MODEL**"
      ]
    },
    {
      "cell_type": "code",
      "metadata": {
        "id": "mpn-G0iTe6kH",
        "colab_type": "code",
        "colab": {}
      },
      "source": [
        "\n",
        "X_train_svm = scaler.fit_transform(X_train)\n",
        "X_test_svm = scaler.fit_transform(X_test)"
      ],
      "execution_count": 0,
      "outputs": []
    },
    {
      "cell_type": "code",
      "metadata": {
        "id": "0IZJmTEXWvKC",
        "colab_type": "code",
        "outputId": "459c78a1-ead8-4f8e-c295-89d985d3ed54",
        "colab": {
          "base_uri": "https://localhost:8080/",
          "height": 119
        }
      },
      "source": [
        "from sklearn.svm import *\n",
        "svclassifier = LinearSVC(random_state=0,class_weight=\"balanced\")\n",
        "svclassifier.fit(X_train_svm, y_train)"
      ],
      "execution_count": 141,
      "outputs": [
        {
          "output_type": "stream",
          "text": [
            "/usr/local/lib/python3.6/dist-packages/sklearn/svm/_base.py:947: ConvergenceWarning: Liblinear failed to converge, increase the number of iterations.\n",
            "  \"the number of iterations.\", ConvergenceWarning)\n"
          ],
          "name": "stderr"
        },
        {
          "output_type": "execute_result",
          "data": {
            "text/plain": [
              "LinearSVC(C=1.0, class_weight='balanced', dual=True, fit_intercept=True,\n",
              "          intercept_scaling=1, loss='squared_hinge', max_iter=1000,\n",
              "          multi_class='ovr', penalty='l2', random_state=0, tol=0.0001,\n",
              "          verbose=0)"
            ]
          },
          "metadata": {
            "tags": []
          },
          "execution_count": 141
        }
      ]
    },
    {
      "cell_type": "code",
      "metadata": {
        "id": "rlFeOqKiXl_c",
        "colab_type": "code",
        "colab": {}
      },
      "source": [
        "y_pred_svm = svclassifier.predict(X_test_svm)"
      ],
      "execution_count": 0,
      "outputs": []
    },
    {
      "cell_type": "code",
      "metadata": {
        "id": "BFzewcBYXVlN",
        "colab_type": "code",
        "outputId": "37ead229-4620-4f29-9250-376eead49d9f",
        "colab": {
          "base_uri": "https://localhost:8080/",
          "height": 204
        }
      },
      "source": [
        "print(confusion_matrix(y_test,y_pred_svm))\n",
        "print(classification_report(y_test,y_pred_svm))\n"
      ],
      "execution_count": 143,
      "outputs": [
        {
          "output_type": "stream",
          "text": [
            "[[ 13614   3319]\n",
            " [  1558 120984]]\n",
            "              precision    recall  f1-score   support\n",
            "\n",
            "           0       0.90      0.80      0.85     16933\n",
            "           1       0.97      0.99      0.98    122542\n",
            "\n",
            "    accuracy                           0.97    139475\n",
            "   macro avg       0.94      0.90      0.91    139475\n",
            "weighted avg       0.96      0.97      0.96    139475\n",
            "\n"
          ],
          "name": "stdout"
        }
      ]
    },
    {
      "cell_type": "code",
      "metadata": {
        "id": "XQi3JdVpXr34",
        "colab_type": "code",
        "outputId": "44aa84b4-2995-4b35-f2cf-d70b886e363f",
        "colab": {
          "base_uri": "https://localhost:8080/",
          "height": 348
        }
      },
      "source": [
        "np.set_printoptions(precision=2)\n",
        "from sklearn.utils.multiclass import unique_labels\n",
        "classes_spr = list(unique_labels(y_test, y_pred))\n",
        "plot_confusion_matrix(y_test, y_pred_svm, classes=classes_spr, normalize=False,\n",
        "                      title='confusion matrix for linear SVM with c=1')\n",
        "plt.show()"
      ],
      "execution_count": 144,
      "outputs": [
        {
          "output_type": "stream",
          "text": [
            "Confusion matrix, without normalization\n",
            "[[ 13614   3319]\n",
            " [  1558 120984]]\n"
          ],
          "name": "stdout"
        },
        {
          "output_type": "display_data",
          "data": {
            "image/png": "[encoded data removed]",
            "text/plain": [
              "<Figure size 432x288 with 2 Axes>"
            ]
          },
          "metadata": {
            "tags": []
          }
        }
      ]
    },
    {
      "cell_type": "code",
      "metadata": {
        "id": "_6A7DKjAXIqd",
        "colab_type": "code",
        "colab": {
          "base_uri": "https://localhost:8080/",
          "height": 164
        },
        "outputId": "ba13a20e-64c3-490c-82b0-76ca3255e738"
      },
      "source": [
        "testpd = pd.DataFrame(columns = header,rows=X)"
      ],
      "execution_count": 145,
      "outputs": [
        {
          "output_type": "error",
          "ename": "TypeError",
          "evalue": "ignored",
          "traceback": [
            "\u001b[0;31m---------------------------------------------------------------------------\u001b[0m",
            "\u001b[0;31mTypeError\u001b[0m                                 Traceback (most recent call last)",
            "\u001b[0;32m<ipython-input-145-6071bba16e50>\u001b[0m in \u001b[0;36m<module>\u001b[0;34m()\u001b[0m\n\u001b[0;32m----> 1\u001b[0;31m \u001b[0mtestpd\u001b[0m \u001b[0;34m=\u001b[0m \u001b[0mpd\u001b[0m\u001b[0;34m.\u001b[0m\u001b[0mDataFrame\u001b[0m\u001b[0;34m(\u001b[0m\u001b[0mcolumns\u001b[0m \u001b[0;34m=\u001b[0m \u001b[0mheader\u001b[0m\u001b[0;34m,\u001b[0m\u001b[0mrows\u001b[0m\u001b[0;34m=\u001b[0m\u001b[0mX\u001b[0m\u001b[0;34m)\u001b[0m\u001b[0;34m\u001b[0m\u001b[0;34m\u001b[0m\u001b[0m\n\u001b[0m",
            "\u001b[0;31mTypeError\u001b[0m: __init__() got an unexpected keyword argument 'rows'"
          ]
        }
      ]
    },
    {
      "cell_type": "code",
      "metadata": {
        "id": "qqQT2DH7u3Sm",
        "colab_type": "code",
        "colab": {}
      },
      "source": [
        "metricarr=list()\n",
        "def iterforest(clf,i,metricarr):\n",
        "  for i in range(i):\n",
        "    clf_spec = RandomForestClassifier(max_depth=None, random_state=1,oob_score=True,n_estimators=10,class_weight=\"balanced\")\n",
        "    clf_spec.fit(X_train,y_train)\n",
        "    y_pred_iter = pd.DataFrame(clf_rf.predict(X_test))\n",
        "    #rf_probs = clf_rf.predict_proba(X_test)[:, 0]\n",
        "    #rf_probs2 = clf_rf.predict_proba(X_test)[:, 1]\n",
        "    \n",
        "    print(classification_report(y_test, y_pred_iter, target_names=classes_spr))\n",
        "    metricarr.append(classification_report(y_test, y_pred_iter, target_names=classes_spr))\n",
        "    np.set_printoptions(precision=2)\n",
        "    \n",
        "    classes_spr = list(unique_labels(y_test, y_pred_rf50))\n",
        "    plot_confusion_matrix(y_test, y_pred_rf50, classes=classes_spr, normalize=False,\n",
        "                      title='confusion matrix for Normal Random Forest iteration '+i)\n",
        "    plt.show()\n",
        "    \n",
        "    \n",
        "    from treeinterpreter import treeinterpreter as ti\n",
        "    from collections import defaultdict \n",
        "    import random\n",
        "    class1=defaultdict(list)\n",
        "    class2=defaultdict(list)\n",
        "    #instance = X_test.sample(n=50000).values #instance randomized to avoid RAM error\n",
        "    prediction, bias, contributions = ti.predict(clf_spec, instance)\n",
        "    #print (\"Prediction\", prediction)\n",
        "    #print (\"Bias (trainset prior)\", bias)\n",
        "    print (\"Feature contributions for rf100:\")\n",
        "    test =list()\n",
        "    count = 0\n",
        "    for i in range(len(instance)):\n",
        "      for c,feature in zip(contributions[i],header):\n",
        "        #print (feature,c)\n",
        "        fc_class1 = c[0]\n",
        "        fc_class2=c[1]\n",
        "        class1[feature].append(fc_class1)\n",
        "        class2[feature].append(fc_class2)\n",
        "      count+=1\n",
        "\n",
        "    #np.sum(contributions,axis=1)\n",
        "    print(count)\n",
        "\n",
        "    import statistics as sts\n",
        "    class1_fixed=list()\n",
        "    class2_fixed=list()\n",
        "    for header_name in header:\n",
        "      array_value = class1[header_name]\n",
        "      class2_array_value = class2[header_name]\n",
        "      class1_fixed.append(sts.median(array_value))\n",
        "      class2_fixed.append(sts.median(class2_array_value))      \n",
        "    for i in enumerate(class1_fixed):\n",
        "      if class1_fixed[i] >0:\n",
        "        setnum1=class1_fixed[i]\n",
        "      if class2_fixed[i] >0:\n",
        "        setnum1=class1_fixed[i]"
      ],
      "execution_count": 0,
      "outputs": []
    }
  ]
}